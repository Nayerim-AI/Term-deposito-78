{
  "cells": [
    {
      "cell_type": "markdown",
      "metadata": {
        "id": "QlBzgvWUg_KM"
      },
      "source": [
        "# INSTALL DEPEDENSI"
      ]
    },
    {
      "cell_type": "code",
      "execution_count": 1,
      "metadata": {
        "colab": {
          "base_uri": "https://localhost:8080/"
        },
        "id": "dlNwkbLlcs_R",
        "outputId": "cb2573aa-eb47-418b-bb56-37af2af65976"
      },
      "outputs": [
        {
          "name": "stdout",
          "output_type": "stream",
          "text": [
            "Requirement already satisfied: xgboost in /usr/local/lib/python3.11/dist-packages (2.1.4)\n",
            "Collecting scikit-learn-intelex\n",
            "  Downloading scikit_learn_intelex-2025.5.0-py311-none-manylinux_2_28_x86_64.whl.metadata (11 kB)\n",
            "Requirement already satisfied: numpy in /usr/local/lib/python3.11/dist-packages (from xgboost) (2.0.2)\n",
            "Requirement already satisfied: nvidia-nccl-cu12 in /usr/local/lib/python3.11/dist-packages (from xgboost) (2.21.5)\n",
            "Requirement already satisfied: scipy in /usr/local/lib/python3.11/dist-packages (from xgboost) (1.15.3)\n",
            "Collecting daal==2025.5.0 (from scikit-learn-intelex)\n",
            "  Downloading daal-2025.5.0-py2.py3-none-manylinux_2_28_x86_64.whl.metadata (1.1 kB)\n",
            "Requirement already satisfied: scikit-learn>=0.22 in /usr/local/lib/python3.11/dist-packages (from scikit-learn-intelex) (1.6.1)\n",
            "Requirement already satisfied: tbb==2022.* in /usr/local/lib/python3.11/dist-packages (from daal==2025.5.0->scikit-learn-intelex) (2022.1.0)\n",
            "Requirement already satisfied: tcmlib==1.* in /usr/local/lib/python3.11/dist-packages (from tbb==2022.*->daal==2025.5.0->scikit-learn-intelex) (1.3.0)\n",
            "Requirement already satisfied: joblib>=1.2.0 in /usr/local/lib/python3.11/dist-packages (from scikit-learn>=0.22->scikit-learn-intelex) (1.5.0)\n",
            "Requirement already satisfied: threadpoolctl>=3.1.0 in /usr/local/lib/python3.11/dist-packages (from scikit-learn>=0.22->scikit-learn-intelex) (3.6.0)\n",
            "Downloading scikit_learn_intelex-2025.5.0-py311-none-manylinux_2_28_x86_64.whl (4.3 MB)\n",
            "\u001b[2K   \u001b[90m━━━━━━━━━━━━━━━━━━━━━━━━━━━━━━━━━━━━━━━━\u001b[0m \u001b[32m4.3/4.3 MB\u001b[0m \u001b[31m41.9 MB/s\u001b[0m eta \u001b[36m0:00:00\u001b[0m\n",
            "\u001b[?25hDownloading daal-2025.5.0-py2.py3-none-manylinux_2_28_x86_64.whl (110.3 MB)\n",
            "\u001b[2K   \u001b[90m━━━━━━━━━━━━━━━━━━━━━━━━━━━━━━━━━━━━━━━━\u001b[0m \u001b[32m110.3/110.3 MB\u001b[0m \u001b[31m5.9 MB/s\u001b[0m eta \u001b[36m0:00:00\u001b[0m\n",
            "\u001b[?25hInstalling collected packages: daal, scikit-learn-intelex\n",
            "Successfully installed daal-2025.5.0 scikit-learn-intelex-2025.5.0\n"
          ]
        }
      ],
      "source": [
        "!pip install xgboost scikit-learn-intelex"
      ]
    },
    {
      "cell_type": "markdown",
      "metadata": {
        "id": "4MkU06bLhBtU"
      },
      "source": [
        "# LOAD DRIVE UNTUK SIMPAN DATA ATAU LOAD DATA"
      ]
    },
    {
      "cell_type": "code",
      "execution_count": 2,
      "metadata": {
        "colab": {
          "base_uri": "https://localhost:8080/"
        },
        "id": "2C7fOEgvdW7L",
        "outputId": "0818568d-99ba-4af7-91ad-e74f57412ca6"
      },
      "outputs": [
        {
          "name": "stdout",
          "output_type": "stream",
          "text": [
            "Mounted at /content/drive\n"
          ]
        }
      ],
      "source": [
        "from google.colab import drive\n",
        "drive.mount('/content/drive')"
      ]
    },
    {
      "cell_type": "markdown",
      "metadata": {
        "id": "NtAgt4uQhGnN"
      },
      "source": [
        "# IMPORT DEPEDENSI"
      ]
    },
    {
      "cell_type": "code",
      "execution_count": null,
      "metadata": {
        "id": "B1O5Z36VdYwK"
      },
      "outputs": [],
      "source": [
        "import pandas as pd\n",
        "import numpy as np\n",
        "import matplotlib.pyplot as plt\n",
        "import seaborn as sns\n",
        "from sklearn.model_selection import train_test_split, RandomizedSearchCV\n",
        "from sklearn.pipeline import Pipeline\n",
        "from sklearn.compose import ColumnTransformer\n",
        "from sklearn.preprocessing import StandardScaler, OneHotEncoder, PolynomialFeatures\n",
        "from sklearn.impute import SimpleImputer\n",
        "from sklearn.metrics import roc_auc_score, roc_curve\n",
        "from xgboost import XGBClassifier\n",
        "\n",
        "sns.set(style='whitegrid')"
      ]
    },
    {
      "cell_type": "markdown",
      "metadata": {
        "id": "upvo17OBdlPt"
      },
      "source": [
        "# LOAD DATASET"
      ]
    },
    {
      "cell_type": "code",
      "execution_count": null,
      "metadata": {
        "colab": {
          "base_uri": "https://localhost:8080/"
        },
        "id": "LOBrur09dodO",
        "outputId": "128db3cb-b299-41a0-c4ba-b28c5741fcae"
      },
      "outputs": [
        {
          "name": "stdout",
          "output_type": "stream",
          "text": [
            "Dataset berhasil dimuat!\n"
          ]
        }
      ],
      "source": [
        "try:\n",
        "    train_df = pd.read_csv(\"/content/drive/MyDrive/KURSUS ARTIFICIAL INTELEGENT/Lomba Machine Learning/training_dataset.csv\")\n",
        "    val_df = pd.read_csv(\"/content/drive/MyDrive/KURSUS ARTIFICIAL INTELEGENT/Lomba Machine Learning/validation_set.csv\") \n",
        "    print(\"Dataset berhasil dimuat!\")\n",
        "except FileNotFoundError:\n",
        "    print(\"Pastikan 'training_dataset.csv' dan 'validation_set.csv' ada di direktori yang sama.\")\n",
        "    exit()"
      ]
    },
    {
      "cell_type": "markdown",
      "metadata": {
        "id": "ceMA-8IBdsJU"
      },
      "source": [
        "# PreProcessing 1"
      ]
    },
    {
      "cell_type": "code",
      "execution_count": 5,
      "metadata": {
        "colab": {
          "base_uri": "https://localhost:8080/"
        },
        "id": "ofbambSydugO",
        "outputId": "f1a24776-134d-4de7-ed05-605fdae3d5ad"
      },
      "outputs": [
        {
          "name": "stdout",
          "output_type": "stream",
          "text": [
            "\n",
            "Jumlah data training (internal): 18332\n",
            "Jumlah data testing (internal): 4584\n",
            "Distribusi kelas target di training (internal):\n",
            "berlangganan_deposito\n",
            "0    16241\n",
            "1     2091\n",
            "Name: count, dtype: int64\n",
            "Distribusi kelas target di testing (internal):\n",
            "berlangganan_deposito\n",
            "0    4061\n",
            "1     523\n",
            "Name: count, dtype: int64\n",
            "Jumlah data validation (untuk prediksi akhir): 5729\n"
          ]
        }
      ],
      "source": [
        "TARGET = 'berlangganan_deposito'\n",
        "X = train_df.drop(columns=[\"customer_number\", TARGET])\n",
        "y = train_df[TARGET]\n",
        "\n",
        "X_train, X_test, y_train, y_test = train_test_split(X, y, stratify=y, test_size=0.2, random_state=42)\n",
        "\n",
        "print(f\"\\nJumlah data training (internal): {len(X_train)}\")\n",
        "print(f\"Jumlah data testing (internal): {len(X_test)}\")\n",
        "print(f\"Distribusi kelas target di training (internal):\\n{y_train.value_counts()}\")\n",
        "print(f\"Distribusi kelas target di testing (internal):\\n{y_test.value_counts()}\")\n",
        "print(f\"Jumlah data validation (untuk prediksi akhir): {len(val_df)}\")"
      ]
    },
    {
      "cell_type": "markdown",
      "metadata": {
        "id": "KDZA3HuPdyOi"
      },
      "source": [
        "# ENGINEER FEATURES"
      ]
    },
    {
      "cell_type": "code",
      "execution_count": null,
      "metadata": {
        "colab": {
          "base_uri": "https://localhost:8080/"
        },
        "id": "6t2jBf3Hd2x3",
        "outputId": "baff816f-ad86-4a5e-ba15-f615ad8e42cd"
      },
      "outputs": [
        {
          "name": "stdout",
          "output_type": "stream",
          "text": [
            "\n",
            "Fitur rekayasa tambahan yang lebih dalam berhasil dibuat.\n"
          ]
        }
      ],
      "source": [
        "\n",
        "def engineer_features(df):\n",
        "    df_copy = df.copy()\n",
        "    df_copy['had_previous_contact'] = (df_copy['hari_sejak_kontak_sebelumnya'] != 999).astype(int)\n",
        "\n",
        "    df_copy['age_x_campaign_contacts'] = df_copy['usia'] * df_copy['jumlah_kontak_kampanye_ini']\n",
        "\n",
        "    df_copy['usia_binned'] = pd.cut(df_copy['usia'], bins=[18, 30, 40, 50, 60, np.inf], labels=['18-29', '30-39', '40-49', '50-59', '60+'], right=False)\n",
        "    df_copy['usia_binned'] = df_copy['usia_binned'].astype(object) \n",
        "\n",
        "    df_copy['prev_contact_ratio'] = df_copy['jumlah_kontak_sebelumnya'] / (df_copy['jumlah_kontak_kampanye_ini'] + 1e-6)\n",
        "\n",
        "    df_copy['recent_contact'] = (df_copy['hari_sejak_kontak_sebelumnya'] > 0) & (df_copy['hari_sejak_kontak_sebelumnya'] <= 7)\n",
        "    df_copy['recent_contact'] = df_copy['recent_contact'].astype(int)\n",
        "\n",
        "    df_copy['pekerjaan_pendidikan_interaksi'] = df_copy['pekerjaan'] + '_' + df_copy['pendidikan']\n",
        "    df_copy['pekerjaan_pendidikan_interaksi'] = df_copy['pekerjaan_pendidikan_interaksi'].astype(object)\n",
        "    df_copy['euribor_x_icc'] = df_copy['suku_bunga_euribor_3bln'] * df_copy['indeks_kepercayaan_konsumen']\n",
        "\n",
        "    df_copy['jumlah_pekerja_x_tingkat_variasi'] = df_copy['jumlah_pekerja'] * df_copy['tingkat_variasi_pekerjaan']\n",
        "\n",
        "    df_copy['memiliki_pinjaman'] = ((df_copy['pinjaman_rumah'] == 'yes') | (df_copy['pinjaman_pribadi'] == 'yes')).astype(int)\n",
        "\n",
        "    df_copy['usia_binned_x_status_perkawinan'] = df_copy['usia_binned'].astype(str) + '_' + df_copy['status_perkawinan']\n",
        "    df_copy['usia_binned_x_status_perkawinan'] = df_copy['usia_binned_x_status_perkawinan'].astype(object)\n",
        "\n",
        "    if 'durasi_kontak_terakhir' in df_copy.columns:\n",
        "        df_copy['durasi_binned'] = pd.cut(df_copy['durasi_kontak_terakhir'], bins=[-1, 60, 180, 300, 600, np.inf], labels=['<1min', '1-3min', '3-5min', '5-10min', '>10min'], right=False)\n",
        "        df_copy['durasi_binned'] = df_copy['durasi_binned'].astype(object)\n",
        "    else:\n",
        "        pass\n",
        "    df_copy['hasil_kampanye_x_jenis_kontak'] = df_copy['hasil_kampanye_sebelumnya'] + '_' + df_copy['jenis_kontak']\n",
        "    df_copy['hasil_kampanye_x_jenis_kontak'] = df_copy['hasil_kampanye_x_jenis_kontak'].astype(object)\n",
        "    df_copy['usia_binned_x_jenis_kontak'] = df_copy['usia_binned'].astype(str) + '_' + df_copy['jenis_kontak']\n",
        "    df_copy['usia_binned_x_jenis_kontak'] = df_copy['usia_binned_x_jenis_kontak'].astype(object)\n",
        "    df_copy['pendidikan_x_hasil_kampanye'] = df_copy['pendidikan'] + '_' + df_copy['hasil_kampanye_sebelumnya']\n",
        "    df_copy['pendidikan_x_hasil_kampanye'] = df_copy['pendidikan_x_hasil_kampanye'].astype(object)\n",
        "    df_copy['status_keuangan_gabungan'] = df_copy['gagal_bayar_sebelumnya'].astype(str) + '_' + \\\n",
        "                                          df_copy['pinjaman_rumah'].astype(str) + '_' + \\\n",
        "                                          df_copy['pinjaman_pribadi'].astype(str)\n",
        "    df_copy['status_keuangan_gabungan'] = df_copy['status_keuangan_gabungan'].astype(object)\n",
        "    df_copy['bulan_kontak_x_hasil_kampanye'] = df_copy['bulan_kontak_terakhir'] + '_' + df_copy['hasil_kampanye_sebelumnya']\n",
        "    df_copy['bulan_kontak_x_hasil_kampanye'] = df_copy['bulan_kontak_x_hasil_kampanye'].astype(object)\n",
        "    df_copy['prev_contact_to_total_ratio'] = df_copy['jumlah_kontak_sebelumnya'] / (df_copy['jumlah_kontak_sebelumnya'] + df_copy['jumlah_kontak_kampanye_ini'] + 1e-6)\n",
        "\n",
        "    return df_copy\n",
        "\n",
        "X_train = engineer_features(X_train)\n",
        "X_test = engineer_features(X_test)\n",
        "val_df_processed = engineer_features(val_df.drop(columns=[\"customer_number\"])) \n",
        "\n",
        "print(\"\\nFitur rekayasa tambahan yang lebih dalam berhasil dibuat.\")"
      ]
    },
    {
      "cell_type": "markdown",
      "metadata": {
        "id": "V2pzPRqDeRfp"
      },
      "source": [
        "# IDENTIFICATION"
      ]
    },
    {
      "cell_type": "code",
      "execution_count": 7,
      "metadata": {
        "colab": {
          "base_uri": "https://localhost:8080/"
        },
        "id": "2YQaVpPzeZmZ",
        "outputId": "3083c3f5-8f90-4ed6-fe26-421ddf962e41"
      },
      "outputs": [
        {
          "name": "stdout",
          "output_type": "stream",
          "text": [
            "\n",
            "Fitur Numerik yang Diperbarui: ['usia', 'jumlah_kontak_kampanye_ini', 'hari_sejak_kontak_sebelumnya', 'jumlah_kontak_sebelumnya', 'tingkat_variasi_pekerjaan', 'indeks_harga_konsumen', 'indeks_kepercayaan_konsumen', 'suku_bunga_euribor_3bln', 'jumlah_pekerja', 'had_previous_contact', 'age_x_campaign_contacts', 'prev_contact_ratio', 'recent_contact', 'euribor_x_icc', 'jumlah_pekerja_x_tingkat_variasi', 'memiliki_pinjaman', 'prev_contact_to_total_ratio']\n",
            "Fitur Kategorikal yang Diperbarui: ['pekerjaan', 'status_perkawinan', 'pendidikan', 'gagal_bayar_sebelumnya', 'pinjaman_rumah', 'pinjaman_pribadi', 'jenis_kontak', 'bulan_kontak_terakhir', 'hari_kontak_terakhir', 'hasil_kampanye_sebelumnya', 'pulau', 'usia_binned', 'pekerjaan_pendidikan_interaksi', 'usia_binned_x_status_perkawinan', 'hasil_kampanye_x_jenis_kontak', 'usia_binned_x_jenis_kontak', 'pendidikan_x_hasil_kampanye', 'status_keuangan_gabungan', 'bulan_kontak_x_hasil_kampanye']\n",
            "\n",
            "Fitur yang akan dihapus dari model: ['pinjaman_rumah', 'pinjaman_pribadi', 'gagal_bayar_sebelumnya', 'hari_kontak_terakhir', 'pulau']\n",
            "Fitur Numerik setelah filter: ['usia', 'jumlah_kontak_kampanye_ini', 'hari_sejak_kontak_sebelumnya', 'jumlah_kontak_sebelumnya', 'tingkat_variasi_pekerjaan', 'indeks_harga_konsumen', 'indeks_kepercayaan_konsumen', 'suku_bunga_euribor_3bln', 'jumlah_pekerja', 'had_previous_contact', 'age_x_campaign_contacts', 'prev_contact_ratio', 'recent_contact', 'euribor_x_icc', 'jumlah_pekerja_x_tingkat_variasi', 'memiliki_pinjaman', 'prev_contact_to_total_ratio']\n",
            "Fitur Kategorikal setelah filter: ['pekerjaan', 'status_perkawinan', 'pendidikan', 'jenis_kontak', 'bulan_kontak_terakhir', 'hasil_kampanye_sebelumnya', 'usia_binned', 'pekerjaan_pendidikan_interaksi', 'usia_binned_x_status_perkawinan', 'hasil_kampanye_x_jenis_kontak', 'usia_binned_x_jenis_kontak', 'pendidikan_x_hasil_kampanye', 'status_keuangan_gabungan', 'bulan_kontak_x_hasil_kampanye']\n"
          ]
        }
      ],
      "source": [
        "\n",
        "numerical_features = X_train.select_dtypes(include=np.number).columns.tolist()\n",
        "categorical_features = X_train.select_dtypes(include='object').columns.tolist()\n",
        "for binned_feature in ['usia_binned', 'durasi_binned']:\n",
        "    if binned_feature in numerical_features:\n",
        "        numerical_features.remove(binned_feature)\n",
        "        if binned_feature not in categorical_features:\n",
        "            categorical_features.append(binned_feature)\n",
        "    elif binned_feature not in categorical_features and binned_feature in X_train.columns:\n",
        "        categorical_features.append(binned_feature)\n",
        "\n",
        "print(f\"\\nFitur Numerik yang Diperbarui: {numerical_features}\")\n",
        "print(f\"Fitur Kategorikal yang Diperbarui: {categorical_features}\")\n",
        "\n",
        "features_to_drop_from_modeling = [\n",
        "    'pinjaman_rumah',\n",
        "    'pinjaman_pribadi',\n",
        "    'gagal_bayar_sebelumnya',\n",
        "    'hari_kontak_terakhir',\n",
        "    'pulau',\n",
        "]\n",
        "\n",
        "\n",
        "numerical_features_filtered = [f for f in numerical_features if f not in features_to_drop_from_modeling]\n",
        "categorical_features_filtered = [f for f in categorical_features if f not in features_to_drop_from_modeling]\n",
        "\n",
        "print(f\"\\nFitur yang akan dihapus dari model: {features_to_drop_from_modeling}\")\n",
        "print(f\"Fitur Numerik setelah filter: {numerical_features_filtered}\")\n",
        "print(f\"Fitur Kategorikal setelah filter: {categorical_features_filtered}\")"
      ]
    },
    {
      "cell_type": "markdown",
      "metadata": {
        "id": "iLJcjCRle3cY"
      },
      "source": [
        "#PREPROCESSING 2"
      ]
    },
    {
      "cell_type": "code",
      "execution_count": 8,
      "metadata": {
        "id": "GC9aNUHyeeWz"
      },
      "outputs": [],
      "source": [
        "\n",
        "numerical_transformer = Pipeline(steps=[\n",
        "    ('imputer', SimpleImputer(strategy='mean')),\n",
        "    ('poly', PolynomialFeatures(degree=2, include_bias=False, interaction_only=True)),\n",
        "    ('scaler', StandardScaler())\n",
        "])\n",
        "\n",
        "categorical_transformer = Pipeline(steps=[\n",
        "    ('imputer', SimpleImputer(strategy='most_frequent')),\n",
        "    ('onehot', OneHotEncoder(handle_unknown='ignore', sparse_output=False))\n",
        "])\n",
        "\n",
        "preprocessor = ColumnTransformer(\n",
        "    transformers=[\n",
        "        ('num', numerical_transformer, numerical_features_filtered),\n",
        "        ('cat', categorical_transformer, categorical_features_filtered)\n",
        "    ],\n",
        "    remainder='drop'\n",
        ")"
      ]
    },
    {
      "cell_type": "markdown",
      "metadata": {
        "id": "a7Mid_Jie-du"
      },
      "source": [
        "# IMBALANCE SOLUTION"
      ]
    },
    {
      "cell_type": "code",
      "execution_count": 9,
      "metadata": {
        "colab": {
          "base_uri": "https://localhost:8080/"
        },
        "id": "hE6deW_Ve9oa",
        "outputId": "5c49c91a-088d-4ed4-a7ea-5b10fb46476d"
      },
      "outputs": [
        {
          "name": "stdout",
          "output_type": "stream",
          "text": [
            "\n",
            "scale_pos_weight yang direkomendasikan: 7.77\n"
          ]
        }
      ],
      "source": [
        "neg_count = y_train.value_counts()[0]\n",
        "pos_count = y_train.value_counts()[1]\n",
        "scale_pos_weight_value = neg_count / pos_count\n",
        "print(f\"\\nscale_pos_weight yang direkomendasikan: {scale_pos_weight_value:.2f}\")"
      ]
    },
    {
      "cell_type": "markdown",
      "metadata": {
        "id": "2Pcd_Q_FfGRZ"
      },
      "source": [
        "# Tuning XGBOOST"
      ]
    },
    {
      "cell_type": "code",
      "execution_count": null,
      "metadata": {
        "colab": {
          "base_uri": "https://localhost:8080/"
        },
        "id": "9D1jUPbgfJrQ",
        "outputId": "1a4def07-7bee-4441-bc50-f39cc0a60f21"
      },
      "outputs": [
        {
          "name": "stdout",
          "output_type": "stream",
          "text": [
            "\n",
            " Memulai Tuning XGBoost\n",
            "Fitting 5 folds for each of 200 candidates, totalling 1000 fits\n",
            "XGBoost Best Test AUC: 0.7937\n"
          ]
        }
      ],
      "source": [
        "results = {}\n",
        "submission_dfs = {}\n",
        "\n",
        "print(\"\\n Memulai Tuning XGBoost\")\n",
        "xgb_model = XGBClassifier(\n",
        "    objective='binary:logistic',\n",
        "    eval_metric='auc',\n",
        "    device='cpu',\n",
        "    random_state=42,\n",
        "    scale_pos_weight=scale_pos_weight_value,\n",
        ")\n",
        "\n",
        "xgb_pipeline = Pipeline(steps=[\n",
        "    ('preprocessor', preprocessor),\n",
        "    ('classifier', xgb_model)\n",
        "])\n",
        "\n",
        "xgb_param_dist = {\n",
        "    'classifier__n_estimators': [60, 70, 75, 80, 90, 100], \n",
        "    'classifier__learning_rate': [0.04, 0.045, 0.05, 0.055, 0.06], \n",
        "    'classifier__max_depth': [3, 4, 5], \n",
        "    'classifier__subsample': [0.65, 0.7, 0.75],\n",
        "    'classifier__colsample_bytree': [0.6, 0.65, 0.7], \n",
        "    'classifier__gamma': [0.1, 0.125, 0.15, 0.175, 0.2] \n",
        "}\n",
        "xgb_random_search = RandomizedSearchCV(\n",
        "    estimator=xgb_pipeline,\n",
        "    param_distributions=xgb_param_dist,\n",
        "    n_iter=200,\n",
        "    scoring='roc_auc',\n",
        "    cv=5,\n",
        "    verbose=2,\n",
        "    random_state=42,\n",
        "    n_jobs=-1\n",
        ")\n",
        "xgb_random_search.fit(X_train, y_train)\n",
        "results['XGBoost'] = {\n",
        "    'best_params': xgb_random_search.best_params_,\n",
        "    'best_cv_auc': xgb_random_search.best_score_,\n",
        "    'test_auc': roc_auc_score(y_test, xgb_random_search.predict_proba(X_test)[:, 1])\n",
        "}\n",
        "best_xgb_estimator = xgb_random_search.best_estimator_\n",
        "submission_dfs['XGBoost'] = pd.DataFrame({\n",
        "    \"customer_number\": val_df[\"customer_number\"],\n",
        "    \"deposito_probabilitas\": best_xgb_estimator.predict_proba(val_df_processed)[:, 1]\n",
        "})\n",
        "print(f\"XGBoost Best Test AUC: {results['XGBoost']['test_auc']:.4f}\")\n"
      ]
    },
    {
      "cell_type": "markdown",
      "metadata": {
        "id": "PLCPyrsTfeKd"
      },
      "source": [
        "# Overview"
      ]
    },
    {
      "cell_type": "code",
      "execution_count": 12,
      "metadata": {
        "colab": {
          "base_uri": "https://localhost:8080/",
          "height": 966
        },
        "id": "u1eD8yBxfilK",
        "outputId": "65effbee-70b5-40a9-cd87-415b3bf76cc6"
      },
      "outputs": [
        {
          "name": "stdout",
          "output_type": "stream",
          "text": [
            "\n",
            " Ringkasan Hasil Tuning Model\n",
            "\n",
            "Model: XGBoost\n",
            "   Best CV AUC: 0.7987\n",
            "   Test AUC: 0.7937\n",
            "   Best Parameters: {'classifier__subsample': 0.65, 'classifier__n_estimators': 70, 'classifier__max_depth': 4, 'classifier__learning_rate': 0.045, 'classifier__gamma': 0.1, 'classifier__colsample_bytree': 0.65}\n"
          ]
        },
        {
          "data": {
            "image/png": "[encoded data removed]",
            "text/plain": [
              "<Figure size 1000x800 with 1 Axes>"
            ]
          },
          "metadata": {},
          "output_type": "display_data"
        },
        {
          "name": "stdout",
          "output_type": "stream",
          "text": [
            "\n",
            " Menyimpan File Submission \n",
            "File submission untuk XGBoost disimpan sebagai: /content/drive/MyDrive/KURSUS ARTIFICIAL INTELEGENT/Lomba Machine Learning/DCM_DMU_2025_Model_xgboost_Example.csv\n",
            "\n",
            "Proses perbandingan model selesai.\n"
          ]
        }
      ],
      "source": [
        "\n",
        "print(\"\\n Ringkasan Hasil Tuning Model\")\n",
        "for model_name, res in results.items():\n",
        "    print(f\"\\nModel: {model_name}\")\n",
        "    print(f\"   Best CV AUC: {res['best_cv_auc']:.4f}\")\n",
        "    print(f\"   Test AUC: {res['test_auc']:.4f}\")\n",
        "    print(f\"   Best Parameters: {res['best_params']}\")\n",
        "\n",
        "\n",
        "plt.figure(figsize=(10, 8))\n",
        "\n",
        "if 'XGBoost' in results:\n",
        "    y_pred_proba = best_xgb_estimator.predict_proba(X_test)[:, 1]\n",
        "    fpr, tpr, _ = roc_curve(y_test, y_pred_proba)\n",
        "    plt.plot(fpr, tpr, lw=2, label=f'XGBoost (AUC = {results[\"XGBoost\"][\"test_auc\"]:.4f})')\n",
        "\n",
        "plt.plot([0, 1], [0, 1], color='navy', lw=2, linestyle='--')\n",
        "plt.xlim([0.0, 1.0])\n",
        "plt.ylim([0.0, 1.05])\n",
        "plt.xlabel('False Positive Rate')\n",
        "plt.ylabel('True Positive Rate')\n",
        "plt.title('ROC Curve for Tuned XGBoost Model on X_test')\n",
        "plt.legend(loc=\"lower right\")\n",
        "plt.grid(True)\n",
        "plt.show()\n",
        "\n",
        "print(\"\\n Menyimpan File Submission \")\n",
        "for model_name, sub_df in submission_dfs.items():\n",
        "    filename = f\"/content/drive/MyDrive/KURSUS ARTIFICIAL INTELEGENT/Lomba Machine Learning/DCM_DMU_2025_Model_{model_name.lower().replace(' ', '_')}_Example.csv\"\n",
        "    sub_df.to_csv(filename, index=False)\n",
        "    print(f\"File submission untuk {model_name} disimpan sebagai: {filename}\")\n",
        "\n",
        "print(\"\\nProses perbandingan model selesai.\")"
      ]
    }
  ],
  "metadata": {
    "colab": {
      "provenance": []
    },
    "kernelspec": {
      "display_name": "Python 3",
      "name": "python3"
    },
    "language_info": {
      "name": "python"
    }
  },
  "nbformat": 4,
  "nbformat_minor": 0
}
